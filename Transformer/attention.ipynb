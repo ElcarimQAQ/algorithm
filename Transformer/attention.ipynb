{
 "cells": [
  {
   "cell_type": "code",
   "execution_count": null,
   "metadata": {},
   "outputs": [],
   "source": [
    "import torch\n",
    "from torch import nn\n",
    "import torch.nn.functional as F\n",
    "\n",
    "n_embd = 128\n",
    "class Attention(nn.Module):\n",
    "    def __init__(self, head_dim) -> None:\n",
    "        super().__init__()\n",
    "        self.softmax = nn.Softmax(dim=-1)\n",
    "        self.query = nn.Linear(n_embd, head_dim)\n",
    "        self.key = nn.Linear(n_embd, head_dim)\n",
    "        self.value = nn.Linear(n_embd, head_dim)\n",
    "        \n",
    "    \n",
    "    def forward(self, q: torch.Tensor, k: torch.Tensor ,v: torch.Tensor, mask=None):\n",
    "        q = self.query(q)\n",
    "        k = self.key(k)\n",
    "        v = self.value(v)\n",
    "        wei = q @ k.transpose(1, 2)\n",
    "        _, _, d_k = k.shape\n",
    "        wei = wei * d_k ** -0.5  \n",
    "        # wei = wei / sqrt(d_k)\n",
    "        if mask != None:\n",
    "            wei = wei.masked_fill(mask == 0, float('-inf'))\n",
    "        attn = self.softmax(wei) \n",
    "        # attn = F.softmax(wei, dim=-1)\n",
    "        output = attn @ v\n",
    "        return output"
   ]
  },
  {
   "cell_type": "code",
   "execution_count": 4,
   "metadata": {},
   "outputs": [
    {
     "name": "stdout",
     "output_type": "stream",
     "text": [
      "torch.Size([32, 1024, 128])\n"
     ]
    }
   ],
   "source": [
    "batch = 32\n",
    "seq_len = 1024\n",
    "d_q = d_k = d_v = 128\n",
    "q = torch.randn(batch, seq_len, d_q)\n",
    "k = torch.randn(batch, seq_len, d_k)\n",
    "v = torch.randn(batch, seq_len, d_v)\n",
    "# torch.tril 函数用于将一个矩阵的上三角部分（不包括对角线）置为0，仅保留下三角部分。\n",
    "mask = torch.tril(torch.ones(seq_len, seq_len))\n",
    "model = Attention()\n",
    "print(model(q, k, v, mask).shape)\n",
    "    "
   ]
  },
  {
   "cell_type": "code",
   "execution_count": null,
   "metadata": {},
   "outputs": [],
   "source": [
    "class MutiHeadAttention(nn.Module):\n",
    "    def __init__(self, d_model, n_head):\n",
    "        super(MutiHeadAttention, self).__init__()\n",
    "        self.head_dim = d_model // n_head\n",
    "        self.heads = nn.ModuleList([Attention(self.head_dim) for _ in range(n_head)])\n",
    "        self.ffl = nn.Linear(d_model, d_model)\n",
    "        \n",
    "    def forward(self, q, k ,v, mask=None):\n",
    "        out = torch.cat([h(q, k, v, mask) for h in self.heads], dim=-1)\n",
    "        out = self.ffl(out)\n",
    "        return out"
   ]
  },
  {
   "cell_type": "code",
   "execution_count": null,
   "metadata": {},
   "outputs": [],
   "source": []
  }
 ],
 "metadata": {
  "kernelspec": {
   "display_name": "cloth-funnels",
   "language": "python",
   "name": "python3"
  },
  "language_info": {
   "codemirror_mode": {
    "name": "ipython",
    "version": 3
   },
   "file_extension": ".py",
   "mimetype": "text/x-python",
   "name": "python",
   "nbconvert_exporter": "python",
   "pygments_lexer": "ipython3",
   "version": "3.9.6"
  }
 },
 "nbformat": 4,
 "nbformat_minor": 2
}
